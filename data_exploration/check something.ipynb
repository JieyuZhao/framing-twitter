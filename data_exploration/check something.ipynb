{
 "cells": [
  {
   "cell_type": "code",
   "execution_count": 37,
   "metadata": {
    "collapsed": true
   },
   "outputs": [],
   "source": [
    "%matplotlib inline\n",
    "from __future__ import division\n",
    "import matplotlib.pyplot as plt\n",
    "import pandas as pd\n",
    "import numpy as np\n",
    "import sys\n",
    "sys.path.append('..')\n",
    "from helpers.glove_neighbors import *\n",
    "from helpers.funcs import *"
   ]
  },
  {
   "cell_type": "code",
   "execution_count": 38,
   "metadata": {
    "collapsed": true
   },
   "outputs": [],
   "source": [
    "config = json.load(open('../config.json', 'r'))\n",
    "DATA_DIR = config['DATA_DIR']\n",
    "TWEET_DIR = config['TWEET_DIR']\n",
    "NUM_CLUSTERS = config['NUM_CLUSTERS']"
   ]
  },
  {
   "cell_type": "code",
   "execution_count": 39,
   "metadata": {
    "collapsed": true
   },
   "outputs": [],
   "source": [
    "event_times = json.load(open(DATA_DIR + \"event_times.json\",\"r\"))"
   ]
  },
  {
   "cell_type": "code",
   "execution_count": 64,
   "metadata": {
    "collapsed": true
   },
   "outputs": [],
   "source": [
    "event = 'orlando'"
   ]
  },
  {
   "cell_type": "code",
   "execution_count": 65,
   "metadata": {
    "collapsed": true
   },
   "outputs": [],
   "source": [
    "cluster_method = ''"
   ]
  },
  {
   "cell_type": "code",
   "execution_count": 66,
   "metadata": {
    "collapsed": true
   },
   "outputs": [],
   "source": [
    "hour = 60 * 60\n",
    "day = 24 * hour\n",
    "split_by = 12 * hour\n",
    "no_splits = int((day / split_by) * 14)  # 14 days"
   ]
  },
  {
   "cell_type": "code",
   "execution_count": 71,
   "metadata": {},
   "outputs": [],
   "source": [
    "data = pd.read_csv('/Users/ddemszky/Google_Drive/Research/Framing/all_events/' + event + '/' + event + '.csv', sep='\\t', lineterminator='\\n',\n",
    "                       usecols=['user_id', 'text', 'dem_follows', 'rep_follows', 'timestamp'])"
   ]
  },
  {
   "cell_type": "code",
   "execution_count": 72,
   "metadata": {},
   "outputs": [
    {
     "data": {
      "text/plain": [
       "1560616"
      ]
     },
     "execution_count": 72,
     "metadata": {},
     "output_type": "execute_result"
    }
   ],
   "source": [
    "len(data)"
   ]
  },
  {
   "cell_type": "code",
   "execution_count": 73,
   "metadata": {},
   "outputs": [
    {
     "data": {
      "text/plain": [
       "(array([1.14900e+03, 8.23000e+02, 5.50000e+02, 4.48000e+02, 1.04000e+02,\n",
       "        4.23000e+02, 3.77500e+03, 1.31000e+04, 1.26030e+04, 2.49140e+04,\n",
       "        3.72430e+04, 1.04141e+05, 1.29747e+05, 1.13132e+05, 9.20270e+04,\n",
       "        6.64560e+04, 5.79060e+04, 4.88420e+04, 4.17000e+04, 3.49310e+04,\n",
       "        3.03160e+04, 2.36330e+04, 1.96400e+04, 1.71400e+04, 1.61810e+04,\n",
       "        2.16770e+04, 3.13210e+04, 3.54450e+04, 3.94260e+04, 4.29920e+04,\n",
       "        3.98350e+04, 3.73010e+04, 3.46820e+04, 3.25300e+04, 3.17990e+04,\n",
       "        2.85090e+04, 2.65630e+04, 2.16310e+04, 1.72240e+04, 1.28370e+04,\n",
       "        1.03960e+04, 1.12930e+04, 1.57770e+04, 2.01290e+04, 2.48520e+04,\n",
       "        3.21910e+04, 2.97530e+04, 2.51610e+04, 2.33400e+04, 2.30280e+04]),\n",
       " array([-3.61655093e-01, -3.01710648e-01, -2.41766204e-01, -1.81821759e-01,\n",
       "        -1.21877315e-01, -6.19328704e-02, -1.98842593e-03,  5.79560185e-02,\n",
       "         1.17900463e-01,  1.77844907e-01,  2.37789352e-01,  2.97733796e-01,\n",
       "         3.57678241e-01,  4.17622685e-01,  4.77567130e-01,  5.37511574e-01,\n",
       "         5.97456019e-01,  6.57400463e-01,  7.17344907e-01,  7.77289352e-01,\n",
       "         8.37233796e-01,  8.97178241e-01,  9.57122685e-01,  1.01706713e+00,\n",
       "         1.07701157e+00,  1.13695602e+00,  1.19690046e+00,  1.25684491e+00,\n",
       "         1.31678935e+00,  1.37673380e+00,  1.43667824e+00,  1.49662269e+00,\n",
       "         1.55656713e+00,  1.61651157e+00,  1.67645602e+00,  1.73640046e+00,\n",
       "         1.79634491e+00,  1.85628935e+00,  1.91623380e+00,  1.97617824e+00,\n",
       "         2.03612269e+00,  2.09606713e+00,  2.15601157e+00,  2.21595602e+00,\n",
       "         2.27590046e+00,  2.33584491e+00,  2.39578935e+00,  2.45573380e+00,\n",
       "         2.51567824e+00,  2.57562269e+00,  2.63556713e+00]),\n",
       " <a list of 50 Patch objects>)"
      ]
     },
     "execution_count": 73,
     "metadata": {},
     "output_type": "execute_result"
    },
    {
     "data": {
      "image/png": "[encoded data removed]",
      "text/plain": [
       "<Figure size 432x288 with 1 Axes>"
      ]
     },
     "metadata": {},
     "output_type": "display_data"
    }
   ],
   "source": [
    "plt.hist((data['timestamp']-event_times[event]) / day, bins=50)"
   ]
  },
  {
   "cell_type": "code",
   "execution_count": 29,
   "metadata": {},
   "outputs": [],
   "source": [
    "data = filter_clustered_tweets(event, data, TWEET_DIR, cluster_method)"
   ]
  },
  {
   "cell_type": "code",
   "execution_count": 30,
   "metadata": {},
   "outputs": [
    {
     "data": {
      "text/plain": [
       "534774"
      ]
     },
     "execution_count": 30,
     "metadata": {},
     "output_type": "execute_result"
    }
   ],
   "source": [
    "len(data)"
   ]
  },
  {
   "cell_type": "code",
   "execution_count": 31,
   "metadata": {
    "collapsed": true
   },
   "outputs": [],
   "source": [
    "data['topic'] = get_clusters(event, TWEET_DIR, cluster_method, NUM_CLUSTERS)"
   ]
  },
  {
   "cell_type": "code",
   "execution_count": 32,
   "metadata": {},
   "outputs": [
    {
     "data": {
      "text/plain": [
       "534774"
      ]
     },
     "execution_count": 32,
     "metadata": {},
     "output_type": "execute_result"
    }
   ],
   "source": [
    "len(data)"
   ]
  },
  {
   "cell_type": "code",
   "execution_count": 33,
   "metadata": {},
   "outputs": [
    {
     "data": {
      "text/plain": [
       "534773"
      ]
     },
     "execution_count": 33,
     "metadata": {},
     "output_type": "execute_result"
    }
   ],
   "source": [
    "(data['timestamp'] > event_times['orlando']).sum()"
   ]
  },
  {
   "cell_type": "code",
   "execution_count": 36,
   "metadata": {},
   "outputs": [
    {
     "data": {
      "text/plain": [
       "(array([  573.,  3146.,  3496.,  5775.,  9797., 14934., 36469., 36006.,\n",
       "        32777., 28151., 21294., 17535., 16262., 14014., 11728., 10629.,\n",
       "         9444.,  6729.,  5468.,  4218.,  3948.,  4791.,  7661.,  9976.,\n",
       "        11332., 12172., 14545., 12956., 12980., 11469., 10933., 10527.,\n",
       "        10292.,  9393.,  8376.,  7008.,  5171.,  3905.,  2844.,  2717.,\n",
       "         3245.,  4606.,  6517.,  7944., 10332.,  9974.,  9173.,  7492.,\n",
       "         7140.,  6910.]),\n",
       " array([0.        , 0.05271134, 0.10542269, 0.15813403, 0.21084537,\n",
       "        0.26355671, 0.31626806, 0.3689794 , 0.42169074, 0.47440208,\n",
       "        0.52711343, 0.57982477, 0.63253611, 0.68524745, 0.7379588 ,\n",
       "        0.79067014, 0.84338148, 0.89609282, 0.94880417, 1.00151551,\n",
       "        1.05422685, 1.10693819, 1.15964954, 1.21236088, 1.26507222,\n",
       "        1.31778356, 1.37049491, 1.42320625, 1.47591759, 1.52862894,\n",
       "        1.58134028, 1.63405162, 1.68676296, 1.73947431, 1.79218565,\n",
       "        1.84489699, 1.89760833, 1.95031968, 2.00303102, 2.05574236,\n",
       "        2.1084537 , 2.16116505, 2.21387639, 2.26658773, 2.31929907,\n",
       "        2.37201042, 2.42472176, 2.4774331 , 2.53014444, 2.58285579,\n",
       "        2.63556713]),\n",
       " <a list of 50 Patch objects>)"
      ]
     },
     "execution_count": 36,
     "metadata": {},
     "output_type": "execute_result"
    },
    {
     "data": {
      "image/png": "[encoded data removed]",
      "text/plain": [
       "<Figure size 432x288 with 1 Axes>"
      ]
     },
     "metadata": {},
     "output_type": "display_data"
    }
   ],
   "source": [
    "plt.hist((data['timestamp']-event_times[event]) / day, bins=50)"
   ]
  },
  {
   "cell_type": "code",
   "execution_count": 16,
   "metadata": {
    "collapsed": true
   },
   "outputs": [],
   "source": [
    "buckets = get_buckets(data, event_times[event], no_splits, split_by)"
   ]
  },
  {
   "cell_type": "code",
   "execution_count": 17,
   "metadata": {},
   "outputs": [
    {
     "name": "stdout",
     "output_type": "stream",
     "text": [
      "158003\n",
      "126106\n",
      "87795\n",
      "83786\n",
      "60674\n",
      "18398\n",
      "0\n",
      "0\n",
      "0\n",
      "0\n",
      "0\n",
      "0\n",
      "0\n",
      "0\n",
      "0\n",
      "0\n",
      "0\n",
      "0\n",
      "0\n",
      "0\n",
      "0\n",
      "0\n",
      "0\n",
      "0\n",
      "0\n",
      "0\n",
      "0\n",
      "0\n"
     ]
    }
   ],
   "source": [
    "for b in buckets:\n",
    "    print(len(b))"
   ]
  },
  {
   "cell_type": "code",
   "execution_count": null,
   "metadata": {
    "collapsed": true
   },
   "outputs": [],
   "source": []
  }
 ],
 "metadata": {
  "kernelspec": {
   "display_name": "nlu",
   "language": "python",
   "name": "nlu"
  },
  "language_info": {
   "codemirror_mode": {
    "name": "ipython",
    "version": 3
   },
   "file_extension": ".py",
   "mimetype": "text/x-python",
   "name": "python",
   "nbconvert_exporter": "python",
   "pygments_lexer": "ipython3",
   "version": "3.6.4"
  }
 },
 "nbformat": 4,
 "nbformat_minor": 2
}

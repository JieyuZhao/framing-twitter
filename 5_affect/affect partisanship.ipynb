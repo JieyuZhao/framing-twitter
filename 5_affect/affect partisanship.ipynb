{
 "cells": [
  {
   "cell_type": "code",
   "execution_count": null,
   "metadata": {},
   "outputs": [],
   "source": [
    "%matplotlib inline\n",
    "from __future__ import division\n",
    "import matplotlib.pyplot as plt\n",
    "import pandas as pd\n",
    "import numpy as np\n",
    "import nltk\n",
    "import json\n",
    "import scipy.spatial.distance\n",
    "import seaborn as sns\n",
    "sno = nltk.stem.SnowballStemmer('english')"
   ]
  },
  {
   "cell_type": "code",
   "execution_count": 7,
   "metadata": {},
   "outputs": [],
   "source": [
    "config = json.load(open('../config.json', 'r'))\n",
    "DATA_DIR = config['DATA_DIR']\n",
    "TWEET_DIR = config['TWEET_DIR']\n",
    "NRC_DIR = config['NRC_DIR']"
   ]
  },
  {
   "cell_type": "markdown",
   "metadata": {},
   "source": [
    "# build own affect lexicon based on NRC"
   ]
  },
  {
   "cell_type": "code",
   "execution_count": 5,
   "metadata": {},
   "outputs": [],
   "source": [
    "glove = pd.read_csv(DATA_DIR + 'glove.50d.csv', sep='\\t', index_col=0)\n",
    "vocab = set(glove.index)"
   ]
  },
  {
   "cell_type": "code",
   "execution_count": 9,
   "metadata": {},
   "outputs": [],
   "source": [
    "# load NRC\n",
    "nrc_lexicon = pd.read_csv(NRC_DIR + 'nrc-emotion.csv', sep='\\t', index_col=0)\n",
    "\n",
    "# stem indices\n",
    "new_indices = [sno.stem(str(w).lower()) for w in nrc_lexicon.index]\n",
    "nrc_lexicon.index = new_indices\n",
    "\n",
    "# get all stems associated with a particular affect category\n",
    "nrc_dict = {}\n",
    "for cat in nrc_lexicon.columns:\n",
    "    nrc_dict[cat] = set(nrc_lexicon[nrc_lexicon[cat] == 1].index)"
   ]
  },
  {
   "cell_type": "code",
   "execution_count": 10,
   "metadata": {},
   "outputs": [
    {
     "data": {
      "text/plain": [
       "Index(['anger', 'anticipation', 'disgust', 'fear', 'joy', 'negative',\n",
       "       'positive', 'sadness', 'surprise', 'trust'],\n",
       "      dtype='object')"
      ]
     },
     "execution_count": 10,
     "metadata": {},
     "output_type": "execute_result"
    }
   ],
   "source": [
    "nrc_lexicon.columns  # affect categories"
   ]
  },
  {
   "cell_type": "code",
   "execution_count": 14,
   "metadata": {},
   "outputs": [],
   "source": [
    "# keep only stems that are among our GloVe embeddings (based on the joint vocab)\n",
    "new_nrc = {k:[] for k in nrc_dict}\n",
    "for k, words in nrc_dict.items():\n",
    "    for w in words:\n",
    "        if w in vocab:\n",
    "            new_nrc[k].append(w)"
   ]
  },
  {
   "cell_type": "code",
   "execution_count": 44,
   "metadata": {
    "scrolled": false
   },
   "outputs": [],
   "source": [
    "# these are manually specified keywords from our vocabulary matching the affect categories\n",
    "key_words = {'negative':['hatr', 'hate', 'griev', 'grief', 'wrong'], \n",
    "             'sadness':['mourn', 'sadden', 'griev', 'grief', 'sad', 'suffer', 'affect', 'broken', 'senseless', 'loss', 'heartbroken'],\n",
    "            'positive':['love', 'donat', 'heart', 'thought', 'strength', 'bless', 'solidar'], \n",
    "            'anger':['deserv', 'lynch', 'gang', 'threat','mad', 'sicken', 'harm', 'enforc', 'firearm', 'ridicul', 'assault'],\n",
    "            'fear':['risk',  'hide', 'danger', 'warn', 'fear'], \n",
    "            'trust':['secur', 'coach', 'safe', 'hero', 'nation'],\n",
    "            'disgust':['disgust', 'disgrac', 'shame', 'slaughter', 'sicken', 'sick',  'ill', 'lunat', 'coward']}"
   ]
  },
  {
   "cell_type": "code",
   "execution_count": 45,
   "metadata": {},
   "outputs": [],
   "source": [
    "def cosine(u, v):\n",
    "    return scipy.spatial.distance.cosine(u, v)"
   ]
  },
  {
   "cell_type": "code",
   "execution_count": 46,
   "metadata": {},
   "outputs": [
    {
     "name": "stdout",
     "output_type": "stream",
     "text": [
      "negative\n",
      "sadness\n",
      "positive\n",
      "anger\n",
      "fear\n",
      "trust\n",
      "disgust\n"
     ]
    }
   ],
   "source": [
    "filtered_nrc = {}\n",
    "for k, v in key_words.items():\n",
    "    print(k)\n",
    "    words = new_nrc[k]\n",
    "    dists = []\n",
    "    for w in words:\n",
    "        dists.append(np.mean([cosine(glove.loc[w], glove.loc[word]) for word in v]))\n",
    "    filtered_nrc[k] = [words[i] for i in np.array(dists).argsort()[:30]]"
   ]
  },
  {
   "cell_type": "code",
   "execution_count": 50,
   "metadata": {},
   "outputs": [
    {
     "name": "stdout",
     "output_type": "stream",
     "text": [
      "negative: hate, hatr, of, violenc, word, sad, evil, tragedi, feel, will, attack, kill, shoot, anger, victim, murder, need, sick, want, massacr, loss, tragic, crime, griev, hard, lost, pain, grief, senseless, ignor\n",
      "----\n",
      "sadness: loss, senseless, tragedi, love, sad, lost, devast, griev, terribl, broken, horrif, condol, victim, mourn, pain, hurt, violenc, feel, horrifi, grief, will, sick, suffer, ach, kill, aw, evil, sicken, lose, hate\n",
      "----\n",
      "positive: love, friend, thought, pray, affect, communiti, pleas, god, stand, condol, bless, hope, thank, help, strong, will, time, effect, support, word, work, strength, comfort, give, rest, feel, peac, power, continu, better\n",
      "----\n",
      "anger: gun, murder, kill, will, violenc, shoot, wrong, shot, attack, death, bad, idiot, feel, arm, crime, crazi, action, crimin, terrorist, mad, ridicul, dead, die, hate, hell, evil, word, damn, shit, insan\n",
      "----\n",
      "fear: danger, fear, still, hide, arm, threat, shooter, attack, gun, murder, kill, shoot, shot, polic, feel, risk, fight, bad, wrong, warn, violenc, fail, serious, problem, case, worri, massacr, death, cop, afraid\n",
      "----\n",
      "trust: school, like, good, secur, nation, show, real, help, call, protect, don, teacher, save, respons, true, wonder, law, continu, great, thought, watch, word, agre, safe, feel, polic, guard, person, sad, friend\n",
      "----\n",
      "disgust: disgust, sick, shame, murder, ignor, wrong, hell, evil, idiot, coward, slaughter, ridicul, attack, sicken, blame, disgrac, damn, action, terrorist, feel, polit, bad, insan, shit, asshol, mad, outrag, die, hate, victim\n",
      "----\n"
     ]
    }
   ],
   "source": [
    "for k, v in filtered_nrc.items():\n",
    "    print(k + ':', ', '.join(v))\n",
    "    print('----')"
   ]
  },
  {
   "cell_type": "code",
   "execution_count": 51,
   "metadata": {},
   "outputs": [],
   "source": [
    "with open(DATA_DIR + 'affect_lexicon.json', 'w') as f:\n",
    "    f.write(json.dumps(filtered_nrc))"
   ]
  },
  {
   "cell_type": "markdown",
   "metadata": {},
   "source": [
    "# plot affect partisanship"
   ]
  },
  {
   "cell_type": "code",
   "execution_count": null,
   "metadata": {},
   "outputs": [],
   "source": [
    "events = open(DATA_DIR + 'event_names.txt', 'r').read().splitlines()\n",
    "shooter_race = json.load(open(DATA_DIR + \"shooters_race.json\",\"r\"))"
   ]
  },
  {
   "cell_type": "code",
   "execution_count": null,
   "metadata": {},
   "outputs": [],
   "source": [
    "def get_odds(features):\n",
    "    dem_sum = sum([counts['dem'] for k, counts in features.items()])\n",
    "    rep_sum = sum([counts['rep'] for k, counts in features.items()])\n",
    "    odds = {}\n",
    "    for k, counts in features.items():\n",
    "        dem = counts['dem']\n",
    "        rep = counts['rep']\n",
    "        odds[k] =  np.log((rep / (rep_sum - rep)) / (dem / (dem_sum - dem)))\n",
    "    return odds"
   ]
  },
  {
   "cell_type": "code",
   "execution_count": null,
   "metadata": {},
   "outputs": [],
   "source": [
    "event_list = []\n",
    "cat_list = []\n",
    "odds_list = []\n",
    "race = []\n",
    "for e in events:\n",
    "    features = json.load(open(TWEET_DIR+e+'/'+e+'_affect_features.json', 'r'))\n",
    "    odds = get_odds(features)\n",
    "    for k, v in odds.items():\n",
    "        event_list.append(e)\n",
    "        cat_list.append(k)\n",
    "        odds_list.append(v)\n",
    "        race.append(shooter_race[e])\n",
    "\n",
    "df = pd.DataFrame.from_dict({'event':event_list, 'odds':odds_list, 'category':cat_list, 'race':race})"
   ]
  },
  {
   "cell_type": "code",
   "execution_count": null,
   "metadata": {},
   "outputs": [],
   "source": [
    "f = plt.figure(dpi=400, figsize=(5,2.5))\n",
    "ax = sns.violinplot(data=df, x=\"odds\",y=\"category\", hue='race', split=True, fliersize=2, notch=True, order=reversed(df.groupby('category').median().sort_values('odds').index), orient=\"h\", palette=sns.color_palette(\"YlGnBu\", 2))\n",
    "\n",
    "ax.plot([0,0], [-1, 20], linewidth=1, color='grey')\n",
    "ax.set_ylabel('')\n",
    "ax.spines['top'].set_linewidth(0.4)\n",
    "ax.spines['right'].set_linewidth(0.4)\n",
    "ax.spines['bottom'].set_linewidth(0.4)\n",
    "ax.spines['left'].set_linewidth(0.4)\n",
    "ax.set_xlabel('Log odds ratio\\n(Democrat < 0 < Republican)')\n",
    "legend = ax.legend(loc='lower right', title=\"Shooter's race\", fontsize=8)\n",
    "plt.setp(legend.get_title(),fontsize='small')"
   ]
  }
 ],
 "metadata": {
  "kernelspec": {
   "display_name": "nlu",
   "language": "python",
   "name": "nlu"
  },
  "language_info": {
   "codemirror_mode": {
    "name": "ipython",
    "version": 3
   },
   "file_extension": ".py",
   "mimetype": "text/x-python",
   "name": "python",
   "nbconvert_exporter": "python",
   "pygments_lexer": "ipython3",
   "version": "3.6.4"
  }
 },
 "nbformat": 4,
 "nbformat_minor": 2
}

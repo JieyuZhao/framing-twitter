{
 "cells": [
  {
   "cell_type": "code",
   "execution_count": 2,
   "metadata": {},
   "outputs": [],
   "source": [
    "import re\n",
    "import pandas as pd\n",
    "import string\n",
    "import json\n",
    "import nltk\n",
    "from collections import Counter\n",
    "import operator\n",
    "import numpy as np"
   ]
  },
  {
   "cell_type": "code",
   "execution_count": 3,
   "metadata": {},
   "outputs": [],
   "source": [
    "config = json.load(open('../config.json', 'r'))\n",
    "DATA_DIR = config['DATA_DIR']\n",
    "TWEET_DIR = config['TWEET_DIR']\n",
    "events = open(DATA_DIR + 'event_names.txt', 'r').read().splitlines()"
   ]
  },
  {
   "cell_type": "markdown",
   "metadata": {},
   "source": [
    "## Identify retweets and tweets to be removed"
   ]
  },
  {
   "cell_type": "markdown",
   "metadata": {},
   "source": [
    "Note: \n",
    "- we remove tweets with no user ids and tweets that were posted before the events\n",
    "- the reason why the percentage of removed tweets varies is because some event files don't have many retweets (this is the result of the firehose storing mostly original tweets)"
   ]
  },
  {
   "cell_type": "code",
   "execution_count": 37,
   "metadata": {
    "collapsed": true
   },
   "outputs": [],
   "source": [
    "event_times = json.load(open(DATA_DIR + \"event_times.json\",\"r\"))"
   ]
  },
  {
   "cell_type": "code",
   "execution_count": 40,
   "metadata": {},
   "outputs": [
    {
     "name": "stdout",
     "output_type": "stream",
     "text": [
      "chattanooga: 30.36% removed\n",
      "roseburg: 6.64% removed\n",
      "colorado_springs: 3.67% removed\n",
      "san_bernardino: 28.31% removed\n",
      "kalamazoo: 5.46% removed\n",
      "orlando: 26.99% removed\n"
     ]
    },
    {
     "name": "stderr",
     "output_type": "stream",
     "text": [
      "/anaconda2/envs/nlu/lib/python3.6/site-packages/IPython/core/interactiveshell.py:2728: DtypeWarning: Columns (12,13,14,15,20) have mixed types. Specify dtype option on import or set low_memory=False.\n",
      "  interactivity=interactivity, compiler=compiler, result=result)\n"
     ]
    },
    {
     "name": "stdout",
     "output_type": "stream",
     "text": [
      "dallas: 2.88% removed\n",
      "baton_rouge: 4.84% removed\n",
      "burlington: 46.65% removed\n",
      "fort_lauderdale: 86.47% removed\n",
      "fresno: 55.72% removed\n",
      "san_francisco: 41.59% removed\n",
      "vegas: 40.61% removed\n",
      "thornton: 40.17% removed\n",
      "sutherland_springs: 47.97% removed\n"
     ]
    },
    {
     "name": "stderr",
     "output_type": "stream",
     "text": [
      "/anaconda2/envs/nlu/lib/python3.6/site-packages/IPython/core/interactiveshell.py:2728: DtypeWarning: Columns (22) have mixed types. Specify dtype option on import or set low_memory=False.\n",
      "  interactivity=interactivity, compiler=compiler, result=result)\n"
     ]
    },
    {
     "name": "stdout",
     "output_type": "stream",
     "text": [
      "parkland: 49.53% removed\n",
      "nashville: 55.37% removed\n",
      "santa_fe: 48.19% removed\n",
      "annapolis: 59.86% removed\n",
      "pittsburgh: 14.91% removed\n",
      "thousand_oaks: 6.70% removed\n"
     ]
    }
   ],
   "source": [
    "for e in events:\n",
    "    data = pd.read_csv(TWEET_DIR + e + '/' + e + '.csv', sep='\\t', encoding='utf-8', lineterminator='\\n')\n",
    "    data['remove'] = ((data['timestamp'].astype(int) < event_times[e]) | data['user_id'].isnull())\n",
    "    \n",
    "    # we also remove duplicate tweets because oftentimes people / institutions tweet the same using multiple accounts\n",
    "    if 'is_retweet' not in data.columns:\n",
    "        data['isRT'] = (data['text'].duplicated() | data['text'].str.startswith('RT') | data['text'].str.contains('\\bvia\\b', regex=True))\n",
    "    else:\n",
    "        data['isRT'] = (data['text'].duplicated() | (data['is_retweet'] == True) | data['text'].str.contains('\\bvia\\b', regex=True))\n",
    "    print(e + ':', '%.2f%% removed' % ((data['remove'] | data['isRT']).sum() * 100 / len(data)))\n",
    "    data.to_csv(TWEET_DIR +e+'/'+e+'.csv', sep='\\t', encoding='utf-8', index=False, line_terminator='\\n')"
   ]
  },
  {
   "cell_type": "markdown",
   "metadata": {},
   "source": [
    "## Build joint vocabulary"
   ]
  },
  {
   "cell_type": "code",
   "execution_count": 4,
   "metadata": {},
   "outputs": [],
   "source": [
    "punct_chars = list((set(string.punctuation) | {'’', '‘', '–', '—', '~', '|', '“', '”', '…', \"'\", \"`\", '_'}) - set(['#']))\n",
    "punct_chars.sort()\n",
    "punctuation = ''.join(punct_chars)\n",
    "replace = re.compile('[%s]' % re.escape(punctuation))"
   ]
  },
  {
   "cell_type": "code",
   "execution_count": 5,
   "metadata": {
    "collapsed": true
   },
   "outputs": [],
   "source": [
    "sno = nltk.stem.SnowballStemmer('english')"
   ]
  },
  {
   "cell_type": "code",
   "execution_count": 6,
   "metadata": {
    "collapsed": true
   },
   "outputs": [],
   "source": [
    "def clean_text(text):\n",
    "    # lower case\n",
    "    text = text.lower()\n",
    "    # eliminate urls\n",
    "    text = re.sub(r'http\\S*|\\S*\\.com\\S*|\\S*www\\S*', ' ', text)\n",
    "    # eliminate @mentions\n",
    "    text = re.sub(r'\\s@\\S+', ' ', text)\n",
    "    # substitute all other punctuation with whitespace\n",
    "    text = replace.sub(' ', text)\n",
    "    # replace all whitespace with a single space\n",
    "    text = re.sub(r'\\s+', ' ', text)\n",
    "    # strip off spaces on either end\n",
    "    text = text.strip()\n",
    "    # stem words\n",
    "    return [sno.stem(w) for w in text.split()]"
   ]
  },
  {
   "cell_type": "code",
   "execution_count": 9,
   "metadata": {},
   "outputs": [
    {
     "name": "stdout",
     "output_type": "stream",
     "text": [
      "chattanooga\n",
      "roseburg\n",
      "colorado_springs\n",
      "san_bernardino\n",
      "kalamazoo\n",
      "orlando\n",
      "dallas\n",
      "baton_rouge\n",
      "burlington\n",
      "fort_lauderdale\n",
      "fresno\n",
      "san_francisco\n",
      "vegas\n",
      "thornton\n",
      "sutherland_springs\n",
      "parkland\n",
      "nashville\n",
      "santa_fe\n",
      "annapolis\n",
      "pittsburgh\n",
      "thousand_oaks\n"
     ]
    }
   ],
   "source": [
    "vocabs = []\n",
    "for e in events:\n",
    "    data = pd.read_csv(TWEET_DIR +e+'/'+e+'.csv', sep='\\t', encoding='utf-8', lineterminator='\\n', usecols=['text', 'remove', 'isRT'])\n",
    "    data = data[~data['remove'] & ~data['isRT']] # ignore retweets\n",
    "    # sample an equal number of tweets from each event \n",
    "    # this has to be done to eliminate words that are too specific to a particular event\n",
    "    data = data.sample(8000) \n",
    "    print(e)\n",
    "    word_counts = Counter(clean_text(' '.join(data['text'])))\n",
    "    vocab = []\n",
    "    for k, v in word_counts.items():\n",
    "        if v > 10:  # keep words that occur more than 10 times\n",
    "            vocab.append(k)\n",
    "    vocabs.append(set(vocab))"
   ]
  },
  {
   "cell_type": "code",
   "execution_count": 10,
   "metadata": {
    "collapsed": true
   },
   "outputs": [],
   "source": [
    "word_event_count = {}\n",
    "for vocab in vocabs:\n",
    "    for w in vocab:\n",
    "        if w in word_event_count:\n",
    "            word_event_count[w] += 1\n",
    "        else:\n",
    "            word_event_count[w] = 1"
   ]
  },
  {
   "cell_type": "code",
   "execution_count": 11,
   "metadata": {},
   "outputs": [
    {
     "name": "stdout",
     "output_type": "stream",
     "text": [
      "1788\n"
     ]
    }
   ],
   "source": [
    "# Keep all words that occur in at least three events' tweets. Note that we keep stopwords.\n",
    "keep = [k for k, v in sorted(word_event_count.items(), key=operator.itemgetter(1), reverse=True) if (v > 2 and not k.isdigit())]\n",
    "print(len(keep))"
   ]
  },
  {
   "cell_type": "code",
   "execution_count": 12,
   "metadata": {
    "collapsed": true
   },
   "outputs": [],
   "source": [
    "with open(DATA_DIR + 'joint_vocab.txt', 'w') as f:\n",
    "    f.write('\\n'.join(keep))"
   ]
  },
  {
   "cell_type": "markdown",
   "metadata": {},
   "source": [
    "## Clean up tweets"
   ]
  },
  {
   "cell_type": "code",
   "execution_count": 13,
   "metadata": {
    "collapsed": true
   },
   "outputs": [],
   "source": [
    "vocab = open(DATA_DIR + 'joint_vocab.txt', 'r').read().splitlines()\n",
    "vocab_set = set(vocab)"
   ]
  },
  {
   "cell_type": "code",
   "execution_count": 14,
   "metadata": {
    "collapsed": true
   },
   "outputs": [],
   "source": [
    "def clean_tweet(text):\n",
    "    cleaned = clean_text(text)\n",
    "    return ' '.join([w for w in cleaned if w in vocab_set])"
   ]
  },
  {
   "cell_type": "code",
   "execution_count": 15,
   "metadata": {},
   "outputs": [
    {
     "name": "stdout",
     "output_type": "stream",
     "text": [
      "chattanooga\n",
      "roseburg\n",
      "colorado_springs\n",
      "san_bernardino\n",
      "kalamazoo\n",
      "orlando\n",
      "dallas\n",
      "baton_rouge\n",
      "burlington\n",
      "fort_lauderdale\n",
      "fresno\n",
      "san_francisco\n",
      "vegas\n",
      "thornton\n",
      "sutherland_springs\n",
      "parkland\n",
      "nashville\n",
      "santa_fe\n",
      "annapolis\n",
      "pittsburgh\n",
      "thousand_oaks\n"
     ]
    }
   ],
   "source": [
    "for e in events:\n",
    "    print(e)\n",
    "    data = pd.read_csv(TWEET_DIR + e + '/' + e + '.csv', sep='\\t', lineterminator='\\n', usecols=['text', 'remove', 'isRT', 'dem_follows', 'rep_follows'])\n",
    "    data = data[~data['remove'] & ~data['isRT']]  # ignore retweets\n",
    "    with open(TWEET_DIR + e + '/' + e + '_cleaned_text.txt', 'w') as f:\n",
    "        # clean tweets\n",
    "        data['text'] = data['text'].astype(str).apply(clean_tweet)\n",
    "        data = data[data['text'].str.contains(' ')]\n",
    "        f.write('\\n'.join(data['text']))\n",
    "        \n",
    "        # store the indices of cleaned tweets\n",
    "        np.save(TWEET_DIR + e + '/' + e + '_cleaned_indices.npy', np.array(data.index))\n",
    "        \n",
    "        # store indices of cleaned AND partisan tweets\n",
    "        partisan = data[~data['dem_follows'].isnull() & ~data['rep_follows'].isnull() & (data['dem_follows'] != data['rep_follows'])]\n",
    "        np.save(TWEET_DIR + e + '/' + e + '_cleaned_and_partisan_indices.npy', np.array(partisan.index))\n",
    "        \n",
    "        # store indices of partisan tweets AMONG cleaned tweets\n",
    "        data.reset_index(drop=True, inplace=True)\n",
    "        data = data[~data['dem_follows'].isnull() & ~data['rep_follows'].isnull() & (data['dem_follows'] != data['rep_follows'])]\n",
    "        np.save(TWEET_DIR + e + '/' + e + '_partisan_indices_among_cleaned_indices.npy', np.array(data.index))\n",
    "        assert(len(partisan.index) == len(data.index))\n",
    "        \n",
    "        "
   ]
  },
  {
   "cell_type": "markdown",
   "metadata": {
    "collapsed": true
   },
   "source": [
    "# Build separate vocabulary"
   ]
  },
  {
   "cell_type": "code",
   "execution_count": 20,
   "metadata": {
    "collapsed": true
   },
   "outputs": [],
   "source": [
    "stop = set(open(DATA_DIR + 'stopwords.txt', 'r').read().splitlines())\n",
    "event_stopwords = json.load(open(DATA_DIR + \"event_stopwords.json\",\"r\"))"
   ]
  },
  {
   "cell_type": "code",
   "execution_count": 24,
   "metadata": {
    "collapsed": true
   },
   "outputs": [],
   "source": [
    "def clean_no_stop(text, event):\n",
    "    stopwords = stop | set(event_stopwords[event])\n",
    "    # lower case\n",
    "    text = text.lower()\n",
    "    # eliminate urls\n",
    "    text = re.sub(r'http\\S*|\\S*\\.com\\S*|\\S*www\\S*', ' ', text)\n",
    "    # eliminate @mentions\n",
    "    text = re.sub(r'\\s@\\S+', ' ', text)\n",
    "    # substitute all other punctuation with whitespace\n",
    "    text = replace.sub(' ', text)\n",
    "    # replace all whitespace with a single space\n",
    "    text = re.sub(r'\\s+', ' ', text)\n",
    "    # strip off spaces on either end\n",
    "    text = text.strip()\n",
    "    # stem words\n",
    "    return [sno.stem(w) for w in text.split() if w not in stopwords]"
   ]
  },
  {
   "cell_type": "code",
   "execution_count": 27,
   "metadata": {
    "collapsed": true
   },
   "outputs": [],
   "source": [
    "def build_vocab(corpus):\n",
    "    freq = {}\n",
    "    for words in corpus:\n",
    "        prev = ''\n",
    "        count = 0\n",
    "        for i, w in enumerate(words):\n",
    "            if w in freq:\n",
    "                freq[w] += 1\n",
    "            else:\n",
    "                freq[w] = 1\n",
    "            if count > 0:\n",
    "                bigram = prev + ' ' + w\n",
    "                if bigram in freq:\n",
    "                    freq[bigram] += 1\n",
    "                else:\n",
    "                    freq[bigram] = 1\n",
    "            count += 1\n",
    "            prev = w\n",
    "    cutoff = 50  # keep unigrams / bigrams that occur at least a 50 times\n",
    "    vocab = [k for k,v in sorted(freq.items(), key=operator.itemgetter(1), reverse=True) if v > cutoff]\n",
    "    return vocab"
   ]
  },
  {
   "cell_type": "code",
   "execution_count": 28,
   "metadata": {},
   "outputs": [
    {
     "name": "stdout",
     "output_type": "stream",
     "text": [
      "chattanooga\n",
      "1021\n",
      "roseburg\n",
      "592\n",
      "colorado_springs\n",
      "1620\n",
      "san_bernardino\n",
      "1971\n",
      "kalamazoo\n",
      "350\n",
      "orlando\n",
      "22682\n",
      "dallas\n",
      "5872\n",
      "baton_rouge\n",
      "1333\n",
      "burlington\n",
      "253\n",
      "fort_lauderdale\n",
      "367\n",
      "fresno\n",
      "297\n",
      "san_francisco\n",
      "315\n",
      "vegas\n",
      "26604\n",
      "thornton\n",
      "430\n",
      "sutherland_springs\n",
      "4531\n",
      "parkland\n",
      "9893\n",
      "nashville\n",
      "1733\n",
      "santa_fe\n",
      "3016\n",
      "annapolis\n",
      "1248\n",
      "pittsburgh\n",
      "2023\n",
      "thousand_oaks\n",
      "3120\n"
     ]
    }
   ],
   "source": [
    "for i, e in enumerate(events):\n",
    "    print(e)\n",
    "    data = pd.read_csv(TWEET_DIR +e+'/'+e+'.csv', sep='\\t', encoding='utf-8', lineterminator='\\n', usecols=['text', 'remove', 'isRT'])\n",
    "    data = data[~data['remove'] & ~data['isRT']]\n",
    "    cleaned = data['text'].apply(clean_no_stop, args=(e,))\n",
    "    vocab = build_vocab(cleaned)\n",
    "    print(len(vocab))\n",
    "    with open(TWEET_DIR +e+'/' + e+'_vocab.txt', 'w') as f:\n",
    "        f.write('\\n'.join(vocab))"
   ]
  },
  {
   "cell_type": "code",
   "execution_count": null,
   "metadata": {
    "collapsed": true
   },
   "outputs": [],
   "source": []
  }
 ],
 "metadata": {
  "kernelspec": {
   "display_name": "nlu",
   "language": "python",
   "name": "nlu"
  },
  "language_info": {
   "codemirror_mode": {
    "name": "ipython",
    "version": 3
   },
   "file_extension": ".py",
   "mimetype": "text/x-python",
   "name": "python",
   "nbconvert_exporter": "python",
   "pygments_lexer": "ipython3",
   "version": "3.6.4"
  }
 },
 "nbformat": 4,
 "nbformat_minor": 2
}
